{
 "cells": [
  {
   "cell_type": "markdown",
   "id": "9a76e8fb",
   "metadata": {},
   "source": [
    "<font size=7 face=\"courier\">Experiment Source Code"
   ]
  },
  {
   "cell_type": "markdown",
   "id": "0953a556",
   "metadata": {},
   "source": [
    "This is the code used to create the diagrams in the notebook, `Experiment_Introduction.ipynb`."
   ]
  },
  {
   "cell_type": "markdown",
   "id": "c4fc831b",
   "metadata": {},
   "source": [
    "# Set Up Notebook"
   ]
  },
  {
   "cell_type": "markdown",
   "id": "7e750365",
   "metadata": {},
   "source": [
    "import stuff"
   ]
  },
  {
   "cell_type": "code",
   "execution_count": 28,
   "id": "568b9bd7",
   "metadata": {},
   "outputs": [],
   "source": [
    "#!pip install powerlaw\n",
    "\n",
    "# !pip install smart_open\n",
    "# !pip install awswrangler\n",
    "# !pip install deprecated\n",
    "# !pip install nptyping"
   ]
  },
  {
   "cell_type": "markdown",
   "id": "a369330a",
   "metadata": {},
   "source": [
    "Import Packages"
   ]
  },
  {
   "cell_type": "code",
   "execution_count": 1,
   "id": "24ab5182",
   "metadata": {},
   "outputs": [],
   "source": [
    "import numpy as np\n",
    "import matplotlib.pyplot as plt\n",
    "import braingeneers\n",
    "from braingeneers.analysis.analysis import SpikeData, read_phy_files\n",
    "from braingeneers.analysis import load_spike_data\n",
    "import braingeneers.data.datasets_electrophysiology as ephys\n",
    "import scipy.io as sio\n",
    "import scipy\n",
    "from scipy.ndimage import gaussian_filter1d\n",
    "import glob\n",
    "import pandas as pd\n",
    "from ipywidgets import interact, interactive, fixed, interact_manual\n",
    "import random\n",
    "#import matplotlib.patches as mpatches"
   ]
  },
  {
   "cell_type": "markdown",
   "id": "cfc249db",
   "metadata": {},
   "source": [
    "# Load Data"
   ]
  },
  {
   "cell_type": "markdown",
   "id": "ce3fff5c",
   "metadata": {},
   "source": [
    "## <font color=\"blue\">Data Loader"
   ]
  },
  {
   "cell_type": "markdown",
   "id": "186d4880",
   "metadata": {},
   "source": [
    "<font color=\"red\"><b>Warning:</b> This code gets very messy. I do not reccomend reading it. You do not need to know it for the HW."
   ]
  },
  {
   "cell_type": "markdown",
   "id": "5a85ba40",
   "metadata": {},
   "source": [
    "`read_phy_files` is the function we use to load data. The funciton currently (9/12/23) causes an error on braingeneers, so we use an older version"
   ]
  },
  {
   "cell_type": "code",
   "execution_count": 3,
   "id": "4054723d",
   "metadata": {},
   "outputs": [],
   "source": [
    "import io\n",
    "import zipfile\n",
    "from typing import List, Tuple\n",
    "\n",
    "def read_phy_files(path: str, fs=20000.0):\n",
    "    \"\"\"\n",
    "    :param path: a s3 or local path to a zip of phy files.\n",
    "    :return: SpikeData class with a list of spike time lists and neuron_data.\n",
    "            neuron_data = {0: neuron_dict, 1: config_dict}\n",
    "            neuron_dict = {\"new_cluster_id\": {\"channel\": c, \"position\": (x, y),\n",
    "                            \"amplitudes\": [a0, a1, an], \"template\": [t0, t1, tn],\n",
    "                            \"neighbor_channels\": [c0, c1, cn],\n",
    "                            \"neighbor_positions\": [(x0, y0), (x1, y1), (xn,yn)],\n",
    "                            \"neighbor_templates\": [[t00, t01, t0n], [tn0, tn1, tnn]}}\n",
    "            config_dict = {chn: pos}\n",
    "    \"\"\"\n",
    "    assert path[-3:] == 'zip', 'Only zip files supported!'\n",
    "    import braingeneers.utils.smart_open_braingeneers as smart_open\n",
    "    with smart_open.open(path, 'rb') as f0:\n",
    "        f = io.BytesIO(f0.read())\n",
    "\n",
    "        with zipfile.ZipFile(f, 'r') as f_zip:\n",
    "            assert 'params.py' in f_zip.namelist(), \"Wrong spike sorting output.\"\n",
    "            with io.TextIOWrapper(f_zip.open('params.py'), encoding='utf-8') as params:\n",
    "                for line in params:\n",
    "                    if \"sample_rate\" in line:\n",
    "                        fs = float(line.split()[-1])\n",
    "            clusters = np.load(f_zip.open('spike_clusters.npy')).squeeze()\n",
    "            templates = np.load(f_zip.open('templates.npy'))  # (cluster_id, samples, channel_id)\n",
    "            channels = np.load(f_zip.open('channel_map.npy')).squeeze()\n",
    "            templates_w = np.load(f_zip.open('templates.npy'))\n",
    "            wmi = np.load(f_zip.open('whitening_mat_inv.npy'))\n",
    "            spike_templates = np.load(f_zip.open('spike_templates.npy')).squeeze()\n",
    "            spike_times = np.load(f_zip.open('spike_times.npy')).squeeze() / fs * 1e3  # in ms\n",
    "            positions = np.load(f_zip.open('channel_positions.npy'))\n",
    "            amplitudes = np.load(f_zip.open(\"amplitudes.npy\")).squeeze()\n",
    "            if 'cluster_info.tsv' in f_zip.namelist():\n",
    "                cluster_info = pd.read_csv(f_zip.open('cluster_info.tsv'), sep='\\t')\n",
    "                cluster_id = np.array(cluster_info['cluster_id'])\n",
    "                # select clusters using curation label, remove units labeled as \"noise\"\n",
    "                # find the best channel by amplitude\n",
    "                labeled_clusters = cluster_id[cluster_info['group'] != \"noise\"]\n",
    "            else:\n",
    "                labeled_clusters = np.unique(clusters)\n",
    "\n",
    "    df = pd.DataFrame({\"clusters\": clusters, \"spikeTimes\": spike_times, \"amplitudes\": amplitudes})\n",
    "    cluster_agg = df.groupby(\"clusters\").agg({\"spikeTimes\": lambda x: list(x),\n",
    "                                              \"amplitudes\": lambda x: list(x)})\n",
    "    cluster_agg = cluster_agg[cluster_agg.index.isin(labeled_clusters)]\n",
    "\n",
    "    cls_temp = dict(zip(clusters, spike_templates))\n",
    "    neuron_dict = dict.fromkeys(np.arange(len(labeled_clusters)), None)\n",
    "\n",
    "    # un-whitten the templates before finding the best channel\n",
    "    templates = np.dot(templates_w, wmi)\n",
    "\n",
    "    neuron_attributes = []\n",
    "    for i in range(len(labeled_clusters)):\n",
    "        c = labeled_clusters[i]\n",
    "        temp = templates[cls_temp[c]]\n",
    "        amp = np.max(temp, axis=0) - np.min(temp, axis=0)\n",
    "        sorted_idx = [ind for _, ind in sorted(zip(amp, np.arange(len(amp))))]\n",
    "        nbgh_chan_idx = sorted_idx[::-1][:12]\n",
    "        nbgh_temps = temp.transpose()[nbgh_chan_idx]\n",
    "        best_chan_temp = nbgh_temps[0]\n",
    "        nbgh_channels = channels[nbgh_chan_idx]\n",
    "        nbgh_postions = [tuple(positions[idx]) for idx in nbgh_chan_idx]\n",
    "        best_channel = nbgh_channels[0]\n",
    "        best_position = nbgh_postions[0]\n",
    "        # neighbor_templates = dict(zip(nbgh_postions, nbgh_temps))\n",
    "        cls_amp = cluster_agg[\"amplitudes\"][c]\n",
    "        neuron_dict[i] = {\"cluster_id\": c, \"channel\": best_channel, \"position\": best_position,\n",
    "                          \"amplitudes\": cls_amp, \"template\": best_chan_temp,\n",
    "                          \"neighbor_channels\": nbgh_channels, \"neighbor_positions\": nbgh_postions,\n",
    "                          \"neighbor_templates\": nbgh_temps}\n",
    "        neuron_attributes.append(\n",
    "            NeuronAttributes(\n",
    "                cluster_id=c,\n",
    "                channel=best_channel,\n",
    "                position=best_position,\n",
    "                amplitudes=cluster_agg[\"amplitudes\"][c],\n",
    "                template=best_chan_temp,\n",
    "                templates=templates[cls_temp[c]].T,\n",
    "                label=cluster_info['group'][cluster_info['cluster_id'] == c].values[0],\n",
    "                neighbor_channels=channels[nbgh_chan_idx],\n",
    "                neighbor_positions=[tuple(positions[idx]) for idx in nbgh_chan_idx],\n",
    "                neighbor_templates=[templates[cls_temp[c]].T[n] for n in nbgh_chan_idx]\n",
    "            )\n",
    "        )\n",
    "\n",
    "    config_dict = dict(zip(channels, positions))\n",
    "    neuron_data = {0: neuron_dict}\n",
    "    metadata = {0: config_dict}\n",
    "    spikedata = SpikeData(list(cluster_agg[\"spikeTimes\"]), neuron_data=neuron_data, metadata=metadata, neuron_attributes=neuron_attributes)\n",
    "    return spikedata\n",
    "\n",
    "class NeuronAttributes:\n",
    "    cluster_id: int\n",
    "    channel: np.ndarray\n",
    "    position: Tuple[float, float]\n",
    "    amplitudes: List[float]\n",
    "    template: np.ndarray\n",
    "    templates: np.ndarray\n",
    "    label: str\n",
    "\n",
    "    # These lists are the same length and correspond to each other\n",
    "    neighbor_channels: np.ndarray\n",
    "    neighbor_positions: List[Tuple[float, float]]\n",
    "    neighbor_templates: List[np.ndarray]\n",
    "\n",
    "    def __init__(self, *args, **kwargs):\n",
    "        self.cluster_id = kwargs.pop(\"cluster_id\")\n",
    "        self.channel = kwargs.pop(\"channel\")\n",
    "        self.position = kwargs.pop(\"position\")\n",
    "        self.amplitudes = kwargs.pop(\"amplitudes\")\n",
    "        self.template = kwargs.pop(\"template\")\n",
    "        self.templates = kwargs.pop(\"templates\")\n",
    "        self.label = kwargs.pop(\"label\")\n",
    "        self.neighbor_channels = kwargs.pop(\"neighbor_channels\")\n",
    "        self.neighbor_positions = kwargs.pop(\"neighbor_positions\")\n",
    "        self.neighbor_templates = kwargs.pop(\"neighbor_templates\")\n",
    "        for key, value in kwargs.items():\n",
    "            setattr(self, key, value)\n",
    "\n",
    "    def add_attribute(self, key, value):\n",
    "        setattr(self, key, value)\n",
    "\n",
    "    def list_attributes(self):\n",
    "        return [attr for attr in dir(self) if not attr.startswith('__') and not callable(getattr(self, attr))]"
   ]
  },
  {
   "cell_type": "markdown",
   "id": "e7426d52",
   "metadata": {},
   "source": [
    "## Load Data"
   ]
  },
  {
   "cell_type": "code",
   "execution_count": 33,
   "id": "1950fc72",
   "metadata": {},
   "outputs": [],
   "source": [
    "### Current method for loading data (doesn't work)\n",
    "braingeneers.set_default_endpoint(\"/home/jovyan/data/ephys/2023-08-28-e-Math_Mind_Class/HW3-Experiment\")\n",
    "#sd = load_spike_data(uuid=\"2023-08-28-e-Math_Mind_Class\",\n",
    "#                     full_path=\"/home/jovyan/data/ephys/2023-08-28-e-Math_Mind_Class/HW3-Experiment/ephys/2022-04-28-e-/derived/kilosort2/Trace_20220428_15_52_47_chip11350_curated.zip\")\n",
    "metadata = ephys.load_metadata('2022-04-28-e-')\n",
    "sd = read_phy_files(\"/home/jovyan/data/ephys/2023-08-28-e-Math_Mind_Class/HW3-Experiment/ephys/2022-04-28-e-/derived/kilosort2/Trace_20220428_15_52_47_chip11350_curated.zip\")\n"
   ]
  },
  {
   "cell_type": "code",
   "execution_count": 5,
   "id": "b19d4f6a",
   "metadata": {},
   "outputs": [],
   "source": [
    "### Old Code\n",
    "#braingeneers.set_default_endpoint(\"/home/jovyan/data/ephys/2023-08-28-e-Math_Mind_Class/HW3-Experiment\")\n",
    "#files = glob.glob('/home/jovyan/data/ephys/2023-08-28-e-Math_Mind_Class/HW3-Experiment/ephys/2022-04-28-e-/derived/kilosort2/*')\n",
    "#print('Loading', files[0])\n",
    "#sd = read_phy_files(files[0])\n",
    "#metadata = ephys.load_metadata('2022-04-28-e-')"
   ]
  },
  {
   "cell_type": "markdown",
   "id": "af43ff46",
   "metadata": {},
   "source": [
    "Get 2D layout of all electrodes"
   ]
  },
  {
   "cell_type": "code",
   "execution_count": 6,
   "id": "bc249aa2",
   "metadata": {},
   "outputs": [],
   "source": [
    "electrode_mapping = pd.DataFrame( metadata['ephys_experiments']['Trace_20220428_15_52_47_chip11350']['mapping'],\n",
    "                                  columns=['channel','electrode','x','y'] )"
   ]
  },
  {
   "cell_type": "markdown",
   "id": "22bb1e60",
   "metadata": {},
   "source": [
    "# <font color=\"blue\">electrode_layout</font> "
   ]
  },
  {
   "cell_type": "markdown",
   "id": "0f879907",
   "metadata": {},
   "source": [
    "plots the placement of all the recording electrodes"
   ]
  },
  {
   "cell_type": "code",
   "execution_count": 34,
   "id": "e59d994f",
   "metadata": {},
   "outputs": [],
   "source": [
    "def electrodeLayout():\n",
    "    x = electrode_mapping.x.values\n",
    "    y = electrode_mapping.y.values\n",
    "\n",
    "    plt.scatter(x,y,s=2)\n",
    "    plt.xlabel('um')\n",
    "    plt.ylabel('um')\n",
    "    plt.title(\"electrode layout\")\n",
    "    plt.show()"
   ]
  },
  {
   "cell_type": "code",
   "execution_count": 36,
   "id": "f621fc44",
   "metadata": {},
   "outputs": [],
   "source": [
    "#electrodeLayout()"
   ]
  },
  {
   "cell_type": "markdown",
   "id": "ae7a0f9f",
   "metadata": {},
   "source": [
    "# <font color=\"blue\">neuronLayout</font> "
   ]
  },
  {
   "cell_type": "markdown",
   "id": "ebafa4e3",
   "metadata": {},
   "source": [
    "Plots the putative neural units found from spike sorting"
   ]
  },
  {
   "cell_type": "code",
   "execution_count": 37,
   "id": "2088254d",
   "metadata": {},
   "outputs": [],
   "source": [
    "def neuronLayout():\n",
    "    x = electrode_mapping.x.values\n",
    "    y = electrode_mapping.y.values\n",
    "\n",
    "    plt.scatter(x,y,s=2)\n",
    "\n",
    "    neuron_x = []\n",
    "    neuron_y = []\n",
    "    neuron_amp = []\n",
    "    for neuron in sd.neuron_attributes:\n",
    "    #     print(\"x,y:\",neuron['position'])\n",
    "        neuron_x.append(neuron.position[0])\n",
    "        neuron_y.append(neuron.position[1])\n",
    "        neuron_amp.append(np.mean(neuron.amplitudes))\n",
    "\n",
    "    plt.scatter(neuron_x,neuron_y,s=neuron_amp,c='r')\n",
    "    plt.xlabel('um')\n",
    "    plt.ylabel('um')\n",
    "    plt.title(\"electrode layout\")\n",
    "    plt.show()"
   ]
  },
  {
   "cell_type": "code",
   "execution_count": 39,
   "id": "3ce84e47",
   "metadata": {},
   "outputs": [],
   "source": [
    "#neuronLayout()"
   ]
  },
  {
   "cell_type": "markdown",
   "id": "5b6c8152",
   "metadata": {},
   "source": [
    "# <font color=\"blue\">sttcLayout"
   ]
  },
  {
   "cell_type": "markdown",
   "id": "59b14b7b",
   "metadata": {},
   "source": [
    "Show which neurons are connected via spike time tiling"
   ]
  },
  {
   "cell_type": "code",
   "execution_count": 41,
   "id": "707b59d8",
   "metadata": {
    "code_folding": []
   },
   "outputs": [],
   "source": [
    "def sttcLayout( threshold ):\n",
    "    # Lets bring back our graph, and overlay these as connectivity lines\n",
    "\n",
    "    sttc = sd.spike_time_tilings()\n",
    "    # electrodes\n",
    "    x = electrode_mapping.x.values\n",
    "    y = electrode_mapping.y.values\n",
    "    neuron_x = []\n",
    "    neuron_y = []\n",
    "    neuron_amp = []\n",
    "    for neuron in sd.neuron_attributes:\n",
    "        #     print(\"x,y:\",neuron['position'])\n",
    "        neuron_x.append(neuron.position[0])\n",
    "        neuron_y.append(neuron.position[1])\n",
    "        neuron_amp.append(np.mean(neuron.amplitudes))\n",
    "    \n",
    "    plt.figure(figsize=(15,6))\n",
    "    plt.subplot(1, 2, 1)\n",
    "    plt.scatter(x,y,s=2)\n",
    "    # Neurons\n",
    "    plt.scatter(neuron_x,neuron_y,s=neuron_amp,c='r')\n",
    "\n",
    "    # Now lines for each neuron if above threshhold\n",
    "    for i in range(sttc.shape[0]):\n",
    "        for j in range(sttc.shape[1]):\n",
    "\n",
    "            # Only need to do upper triangle since sttc' = sttc\n",
    "            if i<=j: continue\n",
    "\n",
    "            if sttc[i,j] < threshold : continue\n",
    "\n",
    "            #Position of neuron i\n",
    "            ix,iy = sd.neuron_attributes[i].position\n",
    "            jx,jy = sd.neuron_attributes[j].position\n",
    "\n",
    "            # Plot line between the points, linewidth is the sttc\n",
    "            plt.plot([ix,jx],[iy,jy], linewidth=sttc[i,j],c='k')\n",
    "\n",
    "    plt.xlabel('um')\n",
    "    plt.ylabel('um')\n",
    "    plt.title(\"electrode layout\")\n",
    "    \n",
    "    \n",
    "\n",
    "    plt.subplot(1, 2, 2)\n",
    "    sttc[sttc<threshold ] = 0\n",
    "    plt.imshow(sttc,vmin=0,vmax=1)\n",
    "    plt.colorbar()\n",
    "    plt.title(\"Spike Time Tiling\")\n",
    "    plt.show()"
   ]
  },
  {
   "cell_type": "code",
   "execution_count": 43,
   "id": "45231c12",
   "metadata": {},
   "outputs": [],
   "source": [
    "#sttcLayout(.8)"
   ]
  },
  {
   "cell_type": "markdown",
   "id": "2db86765",
   "metadata": {},
   "source": [
    "# <font color=\"blue\">Latency Plots"
   ]
  },
  {
   "cell_type": "markdown",
   "id": "506dd16d",
   "metadata": {},
   "source": [
    "Displays two plots. The left plot shows which two points the latencies are being calculated between. The right plot is a histogram of all the latencies between the points.\n"
   ]
  },
  {
   "cell_type": "code",
   "execution_count": 13,
   "id": "a17caa3b",
   "metadata": {},
   "outputs": [],
   "source": [
    "def latencyPlots(neuron1, neuron2):\n",
    "    \n",
    "    # Create plot of neural units with selected neurons for latency calculation in green\n",
    "    plt.figure(figsize=(15,6))\n",
    "    plt.subplot(1, 2, 1)\n",
    "    \n",
    "    x = electrode_mapping.x.values\n",
    "    y = electrode_mapping.y.values\n",
    "    plt.scatter(x,y,s=2)\n",
    "\n",
    "    neuron_x = []\n",
    "    neuron_y = []\n",
    "    neuron_amp = []\n",
    "    for neuron in sd.neuron_attributes:\n",
    "    #     print(\"x,y:\",neuron['position'])\n",
    "        neuron_x.append(neuron.position[0])\n",
    "        neuron_y.append(neuron.position[1])\n",
    "        neuron_amp.append(np.mean(neuron.amplitudes))\n",
    "\n",
    "    plt.scatter(neuron_x,neuron_y,s=neuron_amp,c='r')\n",
    "    plt.scatter(neuron_x,neuron_y,s=neuron_amp,c='r')\n",
    "\n",
    "    plt.scatter([neuron_x[neuron1]],[neuron_y[neuron1]],s=70,c='g')\n",
    "    plt.scatter([neuron_x[neuron2]],[neuron_y[neuron2]],s=70,c='g')\n",
    "\n",
    "    plt.xlabel('um')\n",
    "    plt.ylabel('um')\n",
    "    plt.title(\"electrode layout\")\n",
    "    #plt.show()\n",
    "    \n",
    "    # Plot Histogram of latencies\n",
    "    plt.subplot(1, 2, 2)\n",
    "    lates_n1 = sd.latencies_to_index(neuron1)\n",
    "    lates_raw = lates_n1[neuron2]\n",
    "    lates =  list(filter(lambda x: x < 10 and x > -10, lates_raw ))\n",
    "    plt.hist(lates,bins=8)\n",
    "    #plt.xlim([-25,25])\n",
    "    print(\"Mean Latency: \", np.mean(lates) )\n",
    "    print(\"Number of Latencies: \", len(lates))\n",
    "    plt.show()\n",
    "    \n",
    "    "
   ]
  },
  {
   "cell_type": "markdown",
   "id": "e2d9f963",
   "metadata": {},
   "source": [
    "# <font color=\"blue\"> deltaLayout"
   ]
  },
  {
   "cell_type": "markdown",
   "id": "0ce294b5",
   "metadata": {},
   "source": [
    "Creates a hypothetical electrode grid for a delta connectoid"
   ]
  },
  {
   "cell_type": "code",
   "execution_count": 14,
   "id": "3bb311a7",
   "metadata": {},
   "outputs": [],
   "source": [
    "def deltaLayout():\n",
    "    random.seed(0)\n",
    "    x = [int(random.gauss(1000,200)) for i in range(400)]\n",
    "    y = [int(random.gauss(1900,200)) for i in range(400)]\n",
    "    x = x + [int(random.gauss(2500,200)) for i in range(400)]\n",
    "    y = y + [int(random.gauss(1000,200)) for i in range(400)]\n",
    "    x = x + [int(random.gauss(1000,200)) for i in range(400)]\n",
    "    y = y + [int(random.gauss(700,200)) for i in range(400)]\n",
    "\n",
    "    plt.scatter(x,y,s=2)\n",
    "    plt.xlabel('um')\n",
    "    plt.ylabel('um')\n",
    "    plt.title(\"electrode layout\")\n",
    "    plt.show()"
   ]
  },
  {
   "cell_type": "code",
   "execution_count": 15,
   "id": "37c761b4",
   "metadata": {},
   "outputs": [],
   "source": [
    "#deltaLayout()"
   ]
  },
  {
   "cell_type": "code",
   "execution_count": 16,
   "id": "35105783",
   "metadata": {},
   "outputs": [],
   "source": [
    "#latencyPlots(3,15)"
   ]
  },
  {
   "cell_type": "markdown",
   "id": "562c1d40",
   "metadata": {},
   "source": [
    "# Stim Basic Pulse"
   ]
  },
  {
   "cell_type": "markdown",
   "id": "dccecf76",
   "metadata": {},
   "source": [
    "<font color=\"red\"><b>Warning:</b> This code gets very messy. I do not reccomend reading it. You do not need to know it for the HW."
   ]
  },
  {
   "cell_type": "markdown",
   "id": "c0ecab50",
   "metadata": {},
   "source": [
    "## <font color=\"gray\">Helper Code"
   ]
  },
  {
   "cell_type": "markdown",
   "id": "2ef46a4a",
   "metadata": {},
   "source": [
    "Get time and signal"
   ]
  },
  {
   "cell_type": "code",
   "execution_count": 17,
   "id": "573aaf60",
   "metadata": {},
   "outputs": [],
   "source": [
    "def getTimeSignal(seconds, num_neurons=1):\n",
    "    s_to_fs = 20000 \n",
    "    return np.arange(0,seconds*s_to_fs)/s_to_fs , np.zeros((seconds* s_to_fs, num_neurons))"
   ]
  },
  {
   "cell_type": "markdown",
   "id": "7428636f",
   "metadata": {},
   "source": [
    "create square wave"
   ]
  },
  {
   "cell_type": "code",
   "execution_count": 18,
   "id": "da8eda1a",
   "metadata": {},
   "outputs": [],
   "source": [
    "def squareWave( signal, time_s, phase_us=200, amp_mV=150):\n",
    "    s_to_fs = 20000   #ms_to_fs=20\n",
    "    us_to_fs = .02\n",
    "    \n",
    "    time_fs  = time_s * s_to_fs\n",
    "    phase_fs =  int(phase_us * us_to_fs)   # Previously used ms #phase_fs = phase_ms * ms_to_fs\n",
    "    half_phase_fs = int(phase_fs/2)\n",
    "    \n",
    "    signal[ time_fs:time_fs+half_phase_fs] = amp_mV\n",
    "    signal[ time_fs+half_phase_fs : time_fs+half_phase_fs*2] = -amp_mV\n",
    "    return signal\n"
   ]
  },
  {
   "cell_type": "markdown",
   "id": "0f227e43",
   "metadata": {},
   "source": [
    "## <font color=\"blue\">stimBasicPulse"
   ]
  },
  {
   "cell_type": "markdown",
   "id": "f2533ebf",
   "metadata": {},
   "source": [
    "Plots an example of a basic stim pulse"
   ]
  },
  {
   "cell_type": "code",
   "execution_count": 19,
   "id": "a4dfa443",
   "metadata": {},
   "outputs": [],
   "source": [
    "def plotPulse():\n",
    "    t,signal =  getTimeSignal(60)\n",
    "    signal = squareWave( signal, time_s=1, phase_us=200, amp_mV=150 )\n",
    "\n",
    "    plt.plot(t,signal)\n",
    "    plt.xlim([.998,1.002])\n",
    "    plt.xlabel('seconds')\n",
    "    plt.ylabel('Voltage (mv)')\n",
    "    plt.show()"
   ]
  },
  {
   "cell_type": "markdown",
   "id": "23570bd3",
   "metadata": {},
   "source": [
    "# Stim Sequence Creater"
   ]
  },
  {
   "cell_type": "markdown",
   "id": "dfdbc290",
   "metadata": {},
   "source": [
    "<font color=\"red\"><b>Warning:</b> This code gets very messy. I do not reccomend reading it. You do not need to know it for the HW."
   ]
  },
  {
   "cell_type": "markdown",
   "id": "6c845e66",
   "metadata": {},
   "source": [
    "## <font color=\"gray\"> Helper Code"
   ]
  },
  {
   "cell_type": "code",
   "execution_count": 20,
   "id": "595831cd",
   "metadata": {},
   "outputs": [],
   "source": [
    "def insert_square_wave_advanced(sig,time,phase_length=20, amplitude=1):\n",
    "    '''Deflects positively at *time* for 20 samples (1ms) then deflects negatively for 20 samples, \n",
    "    then returns to normal'''\n",
    "    sig[time:time+phase_length] = amplitude\n",
    "    sig[time+phase_length:time+phase_length*2] = -amplitude\n",
    "    return sig"
   ]
  },
  {
   "cell_type": "markdown",
   "id": "42d7180f",
   "metadata": {},
   "source": [
    "## <font color=\"blue\"> Main Code Here"
   ]
  },
  {
   "cell_type": "code",
   "execution_count": 21,
   "id": "7a00a4ff",
   "metadata": {},
   "outputs": [],
   "source": [
    "\n",
    "def create_stim_pulse_sequence(stim_list, freq_Hz=None, time_arr = None,max_time_s = 1):\n",
    "    \"\"\"\n",
    "    Creates a stim pulse sequence, parallels the real code that will run on the Maxwell\n",
    "    \n",
    "    Params:\n",
    "    stim_list - list of tuples indicating the commands to run\n",
    "            ------------------------------------------------\n",
    "            For 'stim' command:\n",
    "            ('stim', [neuron inds], mv, us per phase)\n",
    "\n",
    "            For 'delay'\n",
    "            ('delay', frames_delay)\n",
    "            \n",
    "            For 'next'\n",
    "            ('next', None)\n",
    "            This command acts as a placeholder to move to the next timepoint in the time_arr or the next\n",
    "            period triggered by the freq_Hz\n",
    "            -------------------------------------------------\n",
    "    freq_Hz - frequency to call the top stim_list in\n",
    "            *Note* this takes priority over time_arr\n",
    "    time_arr - array of time values that will be when the stimulations occur in order\n",
    "    \n",
    "    max_time_s - time in seconds to stimulate\n",
    "    \n",
    "    \n",
    "    Returns:\n",
    "    sig - np.array -- shape=(n_neurons, timesteps) of what the signal will look like\n",
    "    t - np.array   -- shape=(timesteps) of time in seconds\n",
    "    \"\"\"\n",
    "    \n",
    "    # Since this is fake, only parallels the code on the device,\n",
    "    # We have to make our own time\n",
    "    # And simulate what the stimulation will look like\n",
    "    \n",
    "    # Conversion paramerters\n",
    "    fs_ms = 20 # Good for converting frames to ms\n",
    "    fs_us = .2\n",
    "    \n",
    "    # stim list\n",
    "    seq = ('next',None)\n",
    "    stim_list.append(seq)\n",
    "    stim_list=stim_list*freq_Hz\n",
    "    \n",
    "    # Setup\n",
    "    fs = 20000\n",
    "    n_neurons = 3\n",
    "    t = np.arange(0,fs*max_time_s)/fs\n",
    "    sig = np.zeros(shape=(n_neurons,t.shape[0]))\n",
    "    \n",
    "    \n",
    "    # This would be generated in *real time*\n",
    "    if freq_Hz is not None:\n",
    "        # Until the time is right to stimulation the sequence\n",
    "        for time in t[::fs//freq_Hz]:\n",
    "            time_frames = int(time*fs)\n",
    "            \n",
    "            \n",
    "            if len(stim_list) == 0:\n",
    "                return sig\n",
    "            \n",
    "            #Build the sequence\n",
    "            command = None\n",
    "            \n",
    "            while (command != 'next'):\n",
    "                command, *params = stim_list.pop(0) # Get first thing off list\n",
    "                if command == 'stim':\n",
    "                    neurons, amplitude, phase_length = params\n",
    "                    phase_length = int(phase_length*fs_us)\n",
    "                    \n",
    "                    # Change signal for each neuron\n",
    "                    for n in neurons:\n",
    "                        sig[n,:] = insert_square_wave_advanced(sig[n,:],time_frames,phase_length, amplitude=amplitude)\n",
    "                    time_frames += phase_length*2\n",
    "                    \n",
    "                if command == 'delay':\n",
    "                    time_frames += fs_ms*params[0]\n",
    "                    \n",
    "                #double checking here\n",
    "                if command == 'next':\n",
    "                    break \n",
    "                    \n",
    "        return sig,t"
   ]
  },
  {
   "cell_type": "markdown",
   "id": "66c683d4",
   "metadata": {},
   "source": [
    "Example"
   ]
  },
  {
   "cell_type": "code",
   "execution_count": 22,
   "id": "e1c6c88f",
   "metadata": {},
   "outputs": [],
   "source": [
    "# stim_pattern = []\n",
    "# stim_pattern.append(('stim',[0],150,200))\n",
    "# stim_pattern.append(('delay',20))\n",
    "# stim_pattern.append(('stim',[1],200,20))\n",
    "# #stim_pattern.append(('delay',250))\n",
    "# #stim_pattern.append(('stim',[0,1,2],150,20))\n",
    "# signal,t = create_stim_pulse_sequence(stim_pattern, freq_Hz=1)\n",
    "\n"
   ]
  },
  {
   "cell_type": "markdown",
   "id": "857a8126",
   "metadata": {},
   "source": [
    "## Plot Pulses"
   ]
  },
  {
   "cell_type": "code",
   "execution_count": 23,
   "id": "a9275216",
   "metadata": {},
   "outputs": [],
   "source": [
    "def plotStimPattern(signal,t):\n",
    "    plt.plot(t,signal.T)\n",
    "    plt.legend(['n0','n1','n2'])\n",
    "    plt.xlabel('seconds')\n",
    "    plt.ylabel('Voltage (mv)')\n",
    "    plt.title(\"Stim Pattern over 1 Second\")\n",
    "    plt.show()"
   ]
  },
  {
   "cell_type": "code",
   "execution_count": 24,
   "id": "597a6b36",
   "metadata": {},
   "outputs": [],
   "source": [
    "#plotStimPattern(signal)"
   ]
  },
  {
   "cell_type": "markdown",
   "id": "4d769d6e",
   "metadata": {},
   "source": [
    "## Plot Individual Neurons"
   ]
  },
  {
   "cell_type": "code",
   "execution_count": 25,
   "id": "85b6b56f",
   "metadata": {},
   "outputs": [],
   "source": [
    "def plotIndividualPatterns(signal,t):\n",
    "    names=[\"n0\",\"n1\",\"n2\"]\n",
    "    color=[\"b\",\"#F97306\",\"g\"]\n",
    "    plt.figure(figsize=(16,4))\n",
    "    for i in range(3):\n",
    "        plt.subplot(1, 3, i+1)\n",
    "        plt.plot(t,signal[i], color=color[i])\n",
    "        plt.legend([f\"n{i}\"])\n",
    "        plt.ylabel('Voltage (mv)')\n",
    "        plt.xlabel('seconds')\n",
    "        plt.show"
   ]
  },
  {
   "cell_type": "code",
   "execution_count": 26,
   "id": "4abeda15",
   "metadata": {},
   "outputs": [],
   "source": [
    "#plotIndividualPatterns(signal)"
   ]
  },
  {
   "cell_type": "code",
   "execution_count": null,
   "id": "151decd4",
   "metadata": {},
   "outputs": [],
   "source": []
  },
  {
   "cell_type": "code",
   "execution_count": null,
   "id": "24342349",
   "metadata": {},
   "outputs": [],
   "source": []
  },
  {
   "cell_type": "code",
   "execution_count": null,
   "id": "1c6f8ec9",
   "metadata": {},
   "outputs": [],
   "source": []
  }
 ],
 "metadata": {
  "hide_input": false,
  "kernelspec": {
   "display_name": "Python 3 (ipykernel)",
   "language": "python",
   "name": "python3"
  },
  "language_info": {
   "codemirror_mode": {
    "name": "ipython",
    "version": 3
   },
   "file_extension": ".py",
   "mimetype": "text/x-python",
   "name": "python",
   "nbconvert_exporter": "python",
   "pygments_lexer": "ipython3",
   "version": "3.10.0"
  },
  "toc": {
   "base_numbering": 1,
   "nav_menu": {},
   "number_sections": true,
   "sideBar": true,
   "skip_h1_title": false,
   "title_cell": "Table of Contents",
   "title_sidebar": "Contents",
   "toc_cell": false,
   "toc_position": {},
   "toc_section_display": true,
   "toc_window_display": false
  },
  "varInspector": {
   "cols": {
    "lenName": 16,
    "lenType": 16,
    "lenVar": 40
   },
   "kernels_config": {
    "python": {
     "delete_cmd_postfix": "",
     "delete_cmd_prefix": "del ",
     "library": "var_list.py",
     "varRefreshCmd": "print(var_dic_list())"
    },
    "r": {
     "delete_cmd_postfix": ") ",
     "delete_cmd_prefix": "rm(",
     "library": "var_list.r",
     "varRefreshCmd": "cat(var_dic_list()) "
    }
   },
   "types_to_exclude": [
    "module",
    "function",
    "builtin_function_or_method",
    "instance",
    "_Feature"
   ],
   "window_display": false
  }
 },
 "nbformat": 4,
 "nbformat_minor": 5
}
